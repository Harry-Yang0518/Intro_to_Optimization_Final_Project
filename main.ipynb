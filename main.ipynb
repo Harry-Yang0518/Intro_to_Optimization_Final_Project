{
 "cells": [
  {
   "cell_type": "code",
   "execution_count": null,
   "metadata": {},
   "outputs": [],
   "source": [
    "import pulp"
   ]
  },
  {
   "cell_type": "code",
   "execution_count": null,
   "metadata": {},
   "outputs": [],
   "source": [
    "\n",
    "# Define the problem\n",
    "evacuation_problem = pulp.LpProblem(\"Evacuation_Optimization\", pulp.LpMinimize)\n",
    "\n",
    "# Define the variables\n",
    "# Flow variables f_ij for every edge in the graph\n",
    "flow_vars = pulp.LpVariable.dicts(\"flow\", (nodes, nodes), lowBound=0, cat='Continuous')\n",
    "\n",
    "# Binary variables x_k for every safety channel k\n",
    "channel_vars = pulp.LpVariable.dicts(\"channel\", safety_channels, cat='Binary')\n",
    "\n",
    "# Assume corner_points, exits, classroom_exits, edges_dict are defined per your image outline\n",
    "# ...\n",
    "\n",
    "# Define the objective function\n",
    "objective_function = pulp.lpSum([evacuation_time[i] for i in individuals])\n",
    "evacuation_problem += objective_function, \"Total Evacuation Time\"\n",
    "\n",
    "# Flow capacity constraint\n",
    "for i, j in edges:\n",
    "    evacuation_problem += flow_vars[i][j] <= capacity(i, j, width_ij), f\"Flow_Capacity_Constraint_{i}_{j}\"\n",
    "\n",
    "# Flow conservation constraint\n",
    "for node in nodes:\n",
    "    if node not in (source, sink):\n",
    "        evacuation_problem += (\n",
    "            pulp.lpSum([flow_vars[i][node] for i in nodes if (i, node) in edges]) ==\n",
    "            pulp.lpSum([flow_vars[node][j] for j in nodes if (node, j) in edges]),\n",
    "            f\"Flow_Conservation_{node}\"\n",
    "        )\n",
    "\n",
    "# Non-negativity and binary constraints are defined implicitly by variable definitions\n",
    "\n",
    "# Define the capacity as a function of width for each path\n",
    "def capacity(i, j, width_ij):\n",
    "    # Implement the function to calculate capacity based on width and other factors\n",
    "    return calculated_capacity\n",
    "\n",
    "\n"
   ]
  },
  {
   "cell_type": "markdown",
   "metadata": {},
   "source": [
    "Solve:"
   ]
  },
  {
   "cell_type": "code",
   "execution_count": null,
   "metadata": {},
   "outputs": [],
   "source": [
    "# Solve the problem\n",
    "evacuation_problem.solve()\n",
    "\n",
    "# Check if a valid solution was found\n",
    "if pulp.LpStatus[evacuation_problem.status] == 'Optimal':\n",
    "    # Print out the flows and channel states\n",
    "    print(\"Optimal flows:\")\n",
    "    for i, j in edges:\n",
    "        print(f\"Flow from {i} to {j}: {flow_vars[i][j].value()}\")\n",
    "\n",
    "    print(\"\\nChannel states:\")\n",
    "    for k in safety_channels:\n",
    "        print(f\"Channel {k} state: {('Open' if channel_vars[k].value() == 1 else 'Closed')}\")\n",
    "\n",
    "    # You can also calculate and print the total evacuation time if needed\n",
    "    # ...\n",
    "else:\n",
    "    print(\"No optimal solution found.\")"
   ]
  }
 ],
 "metadata": {
  "kernelspec": {
   "display_name": "base",
   "language": "python",
   "name": "python3"
  },
  "language_info": {
   "name": "python",
   "version": "3.9.13"
  }
 },
 "nbformat": 4,
 "nbformat_minor": 2
}
